{
 "cells": [
  {
   "cell_type": "code",
   "execution_count": 3,
   "metadata": {},
   "outputs": [
    {
     "name": "stdout",
     "output_type": "stream",
     "text": [
      "<class 'pandas.core.frame.DataFrame'>\n",
      "RangeIndex: 1091 entries, 0 to 1090\n",
      "Data columns (total 4 columns):\n",
      " #   Column            Non-Null Count  Dtype         \n",
      "---  ------            --------------  -----         \n",
      " 0   날짜                1091 non-null   datetime64[ns]\n",
      " 1   가격                1091 non-null   float64       \n",
      " 2   채굴자 포지션 지표 (MPI)  1091 non-null   float64       \n",
      " 3   label             1091 non-null   int64         \n",
      "dtypes: datetime64[ns](1), float64(2), int64(1)\n",
      "memory usage: 34.2 KB\n"
     ]
    }
   ],
   "source": [
    "#데이터 읽어오기\n",
    "import pandas as pd\n",
    "MPI_df = pd.read_excel('./data/채굴자 포지션 지표 (MPI).xlsx')\n",
    "df_interval = pd.read_excel('./data/변동성_구간.xlsx')\n",
    "\n",
    "# 데이터전처리\n",
    "MPI_df['날짜'] = pd.to_datetime(MPI_df['날짜'], format = \"%Y %m %d\")\n",
    "MPI_df['가격'] = MPI_df['가격'].str.replace(',', '').astype(float)\n",
    "MPI_df['가격'] = pd.to_numeric(MPI_df['가격'], errors='coerce')\n",
    "new_columns = {'날짜':'DATE','가격':'PRICE','채굴자 포지션 지표 (MPI)':'MPI'}\n",
    "MPI_df = MPI_df.rename(columns=new_columns)\n"
   ]
  },
  {
   "cell_type": "code",
   "execution_count": 4,
   "metadata": {},
   "outputs": [],
   "source": [
    "import numpy as np\n",
    "import pandas as pd\n",
    "import matplotlib.pyplot as plt\n",
    "import seaborn as sns \n",
    "from sklearn.preprocessing import MinMaxScaler\n",
    "from sklearn.cluster import DBSCAN\n",
    "\n",
    "#경고무시\n",
    "import warnings\n",
    "warnings.filterwarnings(\"ignore\")\n",
    "\n",
    "sns.set(style=\"whitegrid\", palette=\"pastel\", color_codes=True)\n",
    "sns.set_context('talk')\n",
    "\n",
    "#스케일링(정구화)\n",
    "scaler = MinMaxScaler()\n",
    "MPI_df[['scaled_MPI']] = scaler.fit_transform(MPI_df[['MPI']])\n",
    "X = MPI_df[['scaled_MPI']].values\n",
    "\n",
    "#파라미터값생성\n",
    "eps = [i*(1/100) for i in range(1,10)]\n"
   ]
  },
  {
   "cell_type": "code",
   "execution_count": null,
   "metadata": {},
   "outputs": [],
   "source": [
    "from datetime import datetime, timedelta\n",
    "fig, axs = plt.subplots(3, 3, figsize=(30, 21))\n",
    "\n",
    "\n",
    "for i in range(3):\n",
    "    for j in range(3):\n",
    "        ax1 = axs[i][j]\n",
    "\n",
    "        # DBSCAN 모델 생성 및 학습\n",
    "        model = DBSCAN(eps=eps[i * 3 + j], min_samples=20)\n",
    "        model.fit(X)\n",
    "        labels = model.labels_\n",
    "        MPI_df['label'] = labels\n",
    "        # 첫 번째 y축 그래프 (가격)\n",
    "        ax1.plot(MPI_df['DATE'], MPI_df['PRICE'], label='price',color='#5b5b5b')\n",
    "        # ax1.set_xlabel('DATE')\n",
    "        # ax1.set_ylabel('PRICE',color='#5b5b5b')\n",
    "        ax1.tick_params(axis='y',color='#5b5b5b')\n",
    "        # ax1.legend(loc='upper left')\n",
    "        ax1.tick_params(axis='x', labelrotation=45, labelsize=8)\n",
    "        ax1.tick_params(axis='y', labelsize=8)\n",
    "        # 두 번째 y축 그래프 (CDD)\n",
    "        ax2 = ax1.twinx()\n",
    "        ax2.plot(MPI_df['DATE'], MPI_df['scaled_MPI'], label='CDD',color='#912df1')\n",
    "        # ax2.set_ylabel('CDD',color='#912df1')\n",
    "        ax2.tick_params(axis='y',color='#912df1')\n",
    "\n",
    "        # 이상치 표시\n",
    "        label_minus_1 = MPI_df[MPI_df['label'] == -1]\n",
    "        ax2.scatter(label_minus_1['DATE'], label_minus_1['scaled_MPI'], marker='x', color='black', label='CDD (-1)')\n",
    "\n",
    "        # 구간 표시\n",
    "        for index, row in df_interval.iterrows():\n",
    "            start_date = row['start_date']\n",
    "            end_date = row['end_date']\n",
    "            ax1.axvspan(start_date, end_date, color='gray', alpha=0.5)\n",
    "\n",
    "        # 그래프의 제목에 파라미터 값 추가\n",
    "        ax1.set_title(f'eps = {eps[i * 3 + j]}, count:{len(label_minus_1)}')\n",
    "        plt.grid(False)\n",
    "fig.tight_layout()\n",
    "plt.show()"
   ]
  }
 ],
 "metadata": {
  "kernelspec": {
   "display_name": "venv",
   "language": "python",
   "name": "venv"
  },
  "language_info": {
   "codemirror_mode": {
    "name": "ipython",
    "version": 3
   },
   "file_extension": ".py",
   "mimetype": "text/x-python",
   "name": "python",
   "nbconvert_exporter": "python",
   "pygments_lexer": "ipython3",
   "version": "3.11.3"
  },
  "orig_nbformat": 4
 },
 "nbformat": 4,
 "nbformat_minor": 2
}
